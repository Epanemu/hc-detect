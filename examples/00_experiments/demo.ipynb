{
 "cells": [
  {
   "cell_type": "markdown",
   "id": "b1ecc4c0",
   "metadata": {},
   "source": [
    "## Demo on dnf_bias with defined dataset"
   ]
  },
  {
   "cell_type": "markdown",
   "id": "426aa7d4",
   "metadata": {},
   "source": [
    "During the experiments, some folders and files will be created in this directory.\n",
    "\n",
    "When you run the plotting commands, the generated PDF plots will also appear here."
   ]
  },
  {
   "cell_type": "markdown",
   "id": "33fb5600",
   "metadata": {},
   "source": [
    "### How to Run Experiments\n",
    "Below are common examples using Hydra-style overrides.\n",
    "\n",
    "By default, outputs are written to `./examples/multirun/`.\n",
    "\n",
    "To utilize the structure as the precomputed results, add `+dir_structure=cluster_batch` as a command line argument, and the results will be saved in `./examples/batch_out/` folder."
   ]
  },
  {
   "cell_type": "code",
   "execution_count": 1,
   "id": "a34bcea6",
   "metadata": {},
   "outputs": [
    {
     "name": "stderr",
     "output_type": "stream",
     "text": [
      "C:\\personal\\work\\detect\\humancompatible\\detect\\utils.py:227: RuntimeWarning: invalid value encountered in scalar divide\n",
      "  + K11.sum() / (n1 * (n1 - 1))\n",
      "C:\\personal\\work\\detect\\humancompatible\\detect\\utils.py:230: RuntimeWarning: invalid value encountered in sqrt\n",
      "  return np.sqrt(mmd_estimate)\n",
      "C:\\personal\\work\\detect\\humancompatible\\detect\\utils.py:226: RuntimeWarning: invalid value encountered in scalar divide\n",
      "  K00.sum() / (n0 * (n0 - 1))\n"
     ]
    },
    {
     "name": "stdout",
     "output_type": "stream",
     "text": [
      "Result saved to c:\\personal\\work\\detect\\examples\\00_experiments\\output.txt\n"
     ]
    },
    {
     "name": "stderr",
     "output_type": "stream",
     "text": [
      "Config:\n",
      " {'seed': 0, 'model': 'MMD', 'state': 'CA', 'scenario': 'ACSIncome', 'n_samples': 1000000, 'train_samples': 100000, 'time_limit': 600, 'n_min': 10}\n"
     ]
    }
   ],
   "source": [
    "from importlib import resources\n",
    "from hydra import initialize_config_dir, compose\n",
    "from humancompatible.detect.experiment_enumerative import run_experiment_from_cfg\n",
    "\n",
    "CONF_DIR = (resources.files(\"humancompatible.detect\") / \"conf\").resolve()\n",
    "\n",
    "with initialize_config_dir(version_base=\"1.3\",\n",
    "                           config_dir=str(CONF_DIR),\n",
    "                           job_name=\"nb_run\"):\n",
    "    cfg = compose(config_name=\"enumerative\",)\n",
    "\n",
    "run_experiment_from_cfg(cfg)"
   ]
  },
  {
   "cell_type": "code",
   "execution_count": null,
   "id": "e9c75a68",
   "metadata": {},
   "outputs": [],
   "source": [
    "# OneRule MSD:\n",
    "!python -m humancompatible.detect.experiment_enumerative --config-name \"C:\\personal\\work\\detect\\humancompatible\\detect\\conf\\enumerative.yaml\"\n",
    "# Use config humancompatible/detect/conf/enumerative.yaml"
   ]
  },
  {
   "cell_type": "code",
   "execution_count": null,
   "id": "28eeb7b9",
   "metadata": {},
   "outputs": [],
   "source": [
    "# Sample Complexity experiments:\n",
    "!python ../../src/humancompatible/detect/dnf_bias/experiment_sample_complexity.py -m\n",
    "# Use config src/humancompatible/detect/dnf_bias/conf/distances.yaml"
   ]
  },
  {
   "cell_type": "markdown",
   "id": "79490742",
   "metadata": {},
   "source": [
    "The same results were already obtaines, and stored in folder `./src/detect/dnf_bias/batch_precomputed`.\n",
    "\n",
    "**Note: `-m` flag allows to run multiple experiments with different configurations in conf (seed, model, scenario). Without this flag, only one default experiment will be run, as it is being set at the beginning.** Results will be stored in `outputs` folder."
   ]
  },
  {
   "cell_type": "markdown",
   "id": "221230b1",
   "metadata": {},
   "source": [
    "### Plotting Results\n",
    "After running experiments, you can produce plots. Currently, plots are being generated from already stored results at the given path above.\n",
    "\n",
    "Results are will be saved to the current folder (`./examples/`)."
   ]
  },
  {
   "cell_type": "code",
   "execution_count": null,
   "id": "d886cd09",
   "metadata": {},
   "outputs": [],
   "source": [
    "# Enumeration Comparison\n",
    "!python ../../src/humancompatible/detect/dnf_bias/plot-maker/plot_exploration.py\n",
    "# Produces \"enumeration.pdf\" in this directory"
   ]
  },
  {
   "cell_type": "code",
   "execution_count": null,
   "id": "f868d44c",
   "metadata": {},
   "outputs": [],
   "source": [
    "# Paper Figures\n",
    "!python ../../src/humancompatible/detect/dnf_bias/plot-maker/plots_for_paper.py base\n",
    "# And instead of 'base' you can also choose 'relative' or 'RSE' for different y-axis interpretations\n",
    "\n",
    "# Stored in the current folder as \"final_complexity_base.pdf\""
   ]
  }
 ],
 "metadata": {
  "kernelspec": {
   "display_name": ".venv",
   "language": "python",
   "name": "python3"
  },
  "language_info": {
   "codemirror_mode": {
    "name": "ipython",
    "version": 3
   },
   "file_extension": ".py",
   "mimetype": "text/x-python",
   "name": "python",
   "nbconvert_exporter": "python",
   "pygments_lexer": "ipython3",
   "version": "3.13.3"
  }
 },
 "nbformat": 4,
 "nbformat_minor": 5
}
