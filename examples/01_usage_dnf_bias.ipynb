{
 "cells": [
  {
   "cell_type": "markdown",
   "id": "8e3bba9a",
   "metadata": {},
   "source": [
    "## How to run the dnf_bias.py"
   ]
  },
  {
   "cell_type": "markdown",
   "id": "e53658b9",
   "metadata": {},
   "source": [
    "First, we need to tell Python where to find our `humancompatible.detect` package."
   ]
  },
  {
   "cell_type": "code",
   "execution_count": 1,
   "id": "e898caae",
   "metadata": {},
   "outputs": [],
   "source": [
    "from pathlib import Path\n",
    "import sys\n",
    "\n",
    "PROJECT_ROOT = Path().resolve().parent\n",
    "\n",
    "sys.path.insert(0, str(PROJECT_ROOT))"
   ]
  },
  {
   "cell_type": "markdown",
   "id": "07992eea",
   "metadata": {},
   "source": [
    "Next, point to your CSV and choose (or create) a folder to collect results:"
   ]
  },
  {
   "cell_type": "code",
   "execution_count": 2,
   "id": "1890a865",
   "metadata": {},
   "outputs": [],
   "source": [
    "dataset_path = PROJECT_ROOT / \"humancompatible\" / \"detect\" / \"data\" / \"ACSIncome_CA.csv\"\n",
    "result_folder = PROJECT_ROOT / \"results_dir\"\n",
    "\n",
    "if not dataset_path.exists():\n",
    "    raise FileNotFoundError(f\"Dataset not found at {dataset_path}\")"
   ]
  },
  {
   "cell_type": "markdown",
   "id": "4ec5c200",
   "metadata": {},
   "source": [
    "Here we tell the pipeline:\n",
    "\n",
    "- target – which column is our binary label\n",
    "\n",
    "- protected_list – the “protected” features (we’ll only enumerate subgroups over these)\n",
    "\n",
    "- continuous_list – which features to treat as numeric ranges rather than categories\n",
    "\n",
    "- feature_processing – integer‐division rules to collapse high‐cardinality fields"
   ]
  },
  {
   "cell_type": "code",
   "execution_count": 3,
   "id": "bb9d22ea",
   "metadata": {},
   "outputs": [],
   "source": [
    "target = \"PINCP\"\n",
    "\n",
    "protected_list = [\n",
    "    \"SEX\", \"RAC1P\", \"AGEP\", \"POBP\", \"_POBP\",\n",
    "    \"DIS\", \"CIT\", \"MIL\", \"ANC\", \"NATIVITY\",\n",
    "    \"DEAR\", \"DEYE\", \"DREM\", \"FER\", \"POVPIP\",\n",
    "]\n",
    "\n",
    "continuous_list = [\"AGEP\", \"PINCP\", \"WKHP\", \"JWMNP\", \"POVPIP\"]\n",
    "\n",
    "feature_processing = {\n",
    "    \"POBP\": 100,\n",
    "    \"OCCP\": 100,\n",
    "    \"PUMA\": 100,\n",
    "    \"POWPUMA\": 1000,\n",
    "}\n"
   ]
  },
  {
   "cell_type": "code",
   "execution_count": 4,
   "id": "7e24d33f",
   "metadata": {},
   "outputs": [
    {
     "name": "stderr",
     "output_type": "stream",
     "text": [
      "C:\\personal\\work\\detect\\humancompatible\\detect\\utils.py:227: RuntimeWarning: invalid value encountered in scalar divide\n",
      "  + K11.sum() / (n1 * (n1 - 1))\n",
      "C:\\personal\\work\\detect\\humancompatible\\detect\\utils.py:230: RuntimeWarning: invalid value encountered in sqrt\n",
      "  return np.sqrt(mmd_estimate)\n",
      "C:\\personal\\work\\detect\\humancompatible\\detect\\utils.py:226: RuntimeWarning: invalid value encountered in scalar divide\n",
      "  K00.sum() / (n0 * (n0 - 1))\n"
     ]
    },
    {
     "name": "stdout",
     "output_type": "stream",
     "text": [
      "Result saved to C:\\personal\\work\\detect\\results_dir\\output.txt\n"
     ]
    }
   ],
   "source": [
    "from humancompatible.detect.dnf_bias import dnf_bias\n",
    "\n",
    "max_dist, max_msd, best_literals = dnf_bias(\n",
    "    csv=dataset_path,\n",
    "    out=result_folder,\n",
    "    target=target,\n",
    "    protected_list=protected_list,\n",
    "    continuous_list=continuous_list,\n",
    "    fp_map=feature_processing,\n",
    ")\n"
   ]
  },
  {
   "cell_type": "code",
   "execution_count": 5,
   "id": "52f86618",
   "metadata": {},
   "outputs": [
    {
     "name": "stdout",
     "output_type": "stream",
     "text": [
      "Max distance: 0.6992058987801011\n",
      "Max MSD: 3.691621021357009e-05\n",
      "Max subgroup: (POBP = 2 AND RAC1P = 2.0) \n",
      "\n"
     ]
    }
   ],
   "source": [
    "print(f\"Max distance: {max_dist}\")\n",
    "print(f\"Max MSD: {max_msd}\")\n",
    "print(f\"Max subgroup: ({' AND '.join(sorted(map(str, best_literals)))}) \\n\")\n"
   ]
  },
  {
   "cell_type": "markdown",
   "id": "de1a9951",
   "metadata": {},
   "source": [
    "See `output.txt` for more detailed result."
   ]
  },
  {
   "cell_type": "code",
   "execution_count": 6,
   "id": "73946457",
   "metadata": {},
   "outputs": [
    {
     "name": "stdout",
     "output_type": "stream",
     "text": [
      "\u001b[31mSignature:\u001b[39m\n",
      "dnf_bias(\n",
      "    csv: pathlib._local.Path,\n",
      "    out: pathlib._local.Path,\n",
      "    target: str,\n",
      "    protected_list: List[str],\n",
      "    continuous_list: List[str],\n",
      "    fp_map: Dict[str, int],\n",
      "    model: str = \u001b[33m'MMD'\u001b[39m,\n",
      "    seed: int = \u001b[32m0\u001b[39m,\n",
      "    n_samples: int = \u001b[32m1000000\u001b[39m,\n",
      "    train_samples: int = \u001b[32m100000\u001b[39m,\n",
      "    time_limit: int = \u001b[32m600\u001b[39m,\n",
      "    n_min: int = \u001b[32m10\u001b[39m,\n",
      ") -> Tuple[float, float, List[str]]\n",
      "\u001b[31mDocstring:\u001b[39m\n",
      "Running DNF bias detection experiments on given CSV dataset.\n",
      "\n",
      "Args:\n",
      "    csv (Path): Path to the input CSV file.\n",
      "    out (Path): Directory where 'output.txt' will be saved.\n",
      "    target (str): Name of the column to treat as the binary target variable.\n",
      "    protected_list (List[str]): Comma-separated list of columns to treat as protected attributes; subgroups\n",
      "        are defined over these attributes.\n",
      "    continuous_list (List[str]): List of columns to treat as continuous features.\n",
      "    fp_map (Dict[str, int]): Mapping of column names to integer divisors for\n",
      "        cardinality reduction before binarization (e.g., {\"POBP\":100}).\n",
      "    model (str, optional): Distance metric to optimize. One of\n",
      "        - 'MMD' - Maximum Mean Discrepancy\n",
      "        - 'MSD' - Mean Subgroup Difference  \n",
      "        - 'W1' - 1-Wasserstein (Earth Mover's Distance)  \n",
      "        - 'W2' - 2-Wasserstein  \n",
      "        - 'TV' - Total Variation  \n",
      "        Defaults to 'MMD'.\n",
      "    seed (int, optional): Random seed for dataset subsampling. Defaults to 0.\n",
      "    n_samples (int, optional): Maximum number of rows to sample from the dataset. Defaults to 1_000_000.\n",
      "    train_samples (int, optional): Reserved for future use. Defaults to 100_000.\n",
      "    time_limit (int, optional): Time budget for the search in seconds. Defaults to 600.\n",
      "    n_min (int, optional): Minimum subgroup support (number of rows). Defaults to 10.\n",
      "\n",
      "Returns:\n",
      "    Tuple[float, float, List[str]]: A tuple of:\n",
      "        - max_distance (float): The highest distance value found across all\n",
      "            valid subgroups.\n",
      "        - max_msd (float): The MSD score corresponding to the best subgroup.\n",
      "        - best_literals (List[str]): A list of human-readable strings\n",
      "            describing the positive/negative bins that define the best subgroup.\n",
      "\n",
      "Writes a summary file ('output.txt') into 'out' containing\n",
      "   detailed information about the run (max distance, subgroup description,\n",
      "   counters, and timing).\n",
      "\u001b[31mFile:\u001b[39m      c:\\personal\\work\\detect\\humancompatible\\detect\\dnf_bias.py\n",
      "\u001b[31mType:\u001b[39m      function"
     ]
    }
   ],
   "source": [
    "dnf_bias?"
   ]
  }
 ],
 "metadata": {
  "kernelspec": {
   "display_name": ".venv",
   "language": "python",
   "name": "python3"
  },
  "language_info": {
   "codemirror_mode": {
    "name": "ipython",
    "version": 3
   },
   "file_extension": ".py",
   "mimetype": "text/x-python",
   "name": "python",
   "nbconvert_exporter": "python",
   "pygments_lexer": "ipython3",
   "version": "3.13.3"
  }
 },
 "nbformat": 4,
 "nbformat_minor": 5
}
