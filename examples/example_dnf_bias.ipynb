{
 "cells": [
  {
   "cell_type": "markdown",
   "id": "8e3bba9a",
   "metadata": {},
   "source": [
    "## How to run the dnf_bias.py"
   ]
  },
  {
   "cell_type": "code",
   "execution_count": 1,
   "id": "e898caae",
   "metadata": {},
   "outputs": [],
   "source": [
    "from pathlib import Path\n",
    "import sys\n",
    "\n",
    "PROJECT_ROOT = Path().resolve().parent\n",
    "sys.path.insert(0, str(PROJECT_ROOT / \"src\"))\n",
    "\n",
    "dataset_path = PROJECT_ROOT / \"src\" / \"humancompatible\" / \"detect\" / \"dnf_bias\" / \"data\" / \"ACSIncome_CA.csv\"\n",
    "result_folder = PROJECT_ROOT / \"results_dir\""
   ]
  },
  {
   "cell_type": "code",
   "execution_count": 2,
   "id": "1890a865",
   "metadata": {},
   "outputs": [],
   "source": [
    "if not dataset_path.exists():\n",
    "    raise FileNotFoundError(f\"Dataset not found at {dataset_path}\")\n"
   ]
  },
  {
   "cell_type": "code",
   "execution_count": 3,
   "id": "bb9d22ea",
   "metadata": {},
   "outputs": [],
   "source": [
    "target = \"PINCP\"\n",
    "protected = [\"SEX\", \"RAC1P\", \"AGEP\", \"POBP\", \"_POBP\", \"DIS\", \"CIT\", \"MIL\", \"ANC\", \"NATIVITY\", \"DEAR\", \"DEYE\", \"DREM\", \"FER\", \"POVPIP\"]\n",
    "continuous = [\"AGEP\", \"PINCP\", \"WKHP\", \"JWMNP\", \"POVPIP\"]\n",
    "feature_processing = {\"POBP\": 100, \"OCCP\": 100, \"PUMA\": 100, \"POWPUMA\": 1000}"
   ]
  },
  {
   "cell_type": "code",
   "execution_count": 4,
   "id": "7e24d33f",
   "metadata": {},
   "outputs": [],
   "source": [
    "from humancompatible.detect.dnf_bias.dnf_bias import dnf_bias\n"
   ]
  }
 ],
 "metadata": {
  "kernelspec": {
   "display_name": ".venv",
   "language": "python",
   "name": "python3"
  },
  "language_info": {
   "codemirror_mode": {
    "name": "ipython",
    "version": 3
   },
   "file_extension": ".py",
   "mimetype": "text/x-python",
   "name": "python",
   "nbconvert_exporter": "python",
   "pygments_lexer": "ipython3",
   "version": "3.13.3"
  }
 },
 "nbformat": 4,
 "nbformat_minor": 5
}
