{
 "cells": [
  {
   "cell_type": "markdown",
   "id": "8e3bba9a",
   "metadata": {},
   "source": [
    "## How to run the dnf_bias.py"
   ]
  },
  {
   "cell_type": "code",
   "execution_count": 1,
   "id": "e898caae",
   "metadata": {},
   "outputs": [],
   "source": [
    "from pathlib import Path\n",
    "import sys\n",
    "\n",
    "PROJECT_ROOT = Path().resolve().parent\n",
    "sys.path.insert(0, str(PROJECT_ROOT / \"src\"))\n",
    "\n",
    "dataset_path = PROJECT_ROOT / \"src\" / \"humancompatible\" / \"detect\" / \"dnf_bias\" / \"data\" / \"ACSIncome_CA.csv\"\n",
    "result_folder = PROJECT_ROOT / \"results_dir\""
   ]
  },
  {
   "cell_type": "code",
   "execution_count": null,
   "id": "1890a865",
   "metadata": {},
   "outputs": [],
   "source": [
    "if not dataset_path.exists():\n",
    "    raise FileNotFoundError(f\"Dataset not found at {dataset_path}\")"
   ]
  },
  {
   "cell_type": "code",
   "execution_count": 3,
   "id": "bb9d22ea",
   "metadata": {},
   "outputs": [],
   "source": [
    "target = \"PINCP\"\n",
    "protected_list = [\"SEX\", \"RAC1P\", \"AGEP\", \"POBP\", \"_POBP\", \"DIS\", \"CIT\", \"MIL\", \"ANC\", \"NATIVITY\", \"DEAR\", \"DEYE\", \"DREM\", \"FER\", \"POVPIP\"]\n",
    "continuous_list = [\"AGEP\", \"PINCP\", \"WKHP\", \"JWMNP\", \"POVPIP\"]\n",
    "feature_processing = {\"POBP\": 100, \"OCCP\": 100, \"PUMA\": 100, \"POWPUMA\": 1000}"
   ]
  },
  {
   "cell_type": "code",
   "execution_count": 4,
   "id": "7e24d33f",
   "metadata": {},
   "outputs": [
    {
     "name": "stderr",
     "output_type": "stream",
     "text": [
      "C:\\personal\\work\\detect\\src\\humancompatible\\detect\\dnf_bias\\utils.py:227: RuntimeWarning: invalid value encountered in scalar divide\n",
      "  + K11.sum() / (n1 * (n1 - 1))\n",
      "C:\\personal\\work\\detect\\src\\humancompatible\\detect\\dnf_bias\\utils.py:230: RuntimeWarning: invalid value encountered in sqrt\n",
      "  return np.sqrt(mmd_estimate)\n",
      "C:\\personal\\work\\detect\\src\\humancompatible\\detect\\dnf_bias\\utils.py:226: RuntimeWarning: invalid value encountered in scalar divide\n",
      "  K00.sum() / (n0 * (n0 - 1))\n"
     ]
    },
    {
     "name": "stdout",
     "output_type": "stream",
     "text": [
      "Result saved to C:\\personal\\work\\detect\\results_dir\\output.txt\n"
     ]
    },
    {
     "data": {
      "text/plain": [
       "(np.float64(0.6992058987801011),\n",
       " np.float64(3.691621021357009e-05),\n",
       " ['POBP = 2', 'RAC1P = 2.0'])"
      ]
     },
     "execution_count": 4,
     "metadata": {},
     "output_type": "execute_result"
    }
   ],
   "source": [
    "from humancompatible.detect.dnf_bias.dnf_bias import dnf_bias\n",
    "\n",
    "dnf_bias(\n",
    "    csv=dataset_path,\n",
    "    out=result_folder,\n",
    "    target=target,\n",
    "    protected_list=protected_list,\n",
    "    continuous_list=continuous_list,\n",
    "    fp_map=feature_processing\n",
    ")\n"
   ]
  }
 ],
 "metadata": {
  "kernelspec": {
   "display_name": ".venv",
   "language": "python",
   "name": "python3"
  },
  "language_info": {
   "codemirror_mode": {
    "name": "ipython",
    "version": 3
   },
   "file_extension": ".py",
   "mimetype": "text/x-python",
   "name": "python",
   "nbconvert_exporter": "python",
   "pygments_lexer": "ipython3",
   "version": "3.13.3"
  }
 },
 "nbformat": 4,
 "nbformat_minor": 5
}
