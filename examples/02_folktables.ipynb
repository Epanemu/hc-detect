{
 "cells": [
  {
   "cell_type": "markdown",
   "id": "2b764402",
   "metadata": {},
   "source": [
    "# Folktables: Real‐World Bias Detection with MSD"
   ]
  },
  {
   "cell_type": "markdown",
   "id": "adc690ca",
   "metadata": {},
   "source": [
    "## Configuration & Imports"
   ]
  },
  {
   "cell_type": "code",
   "execution_count": 1,
   "id": "7c60cf15",
   "metadata": {},
   "outputs": [],
   "source": [
    "import numpy as np\n",
    "import pandas as pd\n",
    "\n",
    "from folktables import ACSDataSource, ACSIncome\n",
    "from humancompatible.detect import detect_bias, detect_bias_two_samples"
   ]
  },
  {
   "cell_type": "markdown",
   "id": "f183c9f7",
   "metadata": {},
   "source": [
    "#### Main parameters"
   ]
  },
  {
   "cell_type": "code",
   "execution_count": 2,
   "id": "8ff2967f",
   "metadata": {},
   "outputs": [],
   "source": [
    "state1 = \"HI\"\n",
    "state2 = \"ME\""
   ]
  },
  {
   "cell_type": "markdown",
   "id": "57b714e5",
   "metadata": {},
   "source": [
    "#### Extra parameters"
   ]
  },
  {
   "cell_type": "code",
   "execution_count": 3,
   "id": "8581c71e",
   "metadata": {},
   "outputs": [],
   "source": [
    "survey_year = \"2018\"\n",
    "horizon = \"1-Year\"\n",
    "data_root = \"../data/folktables\"\n",
    "\n",
    "selected_columns = ['AGEP', 'MAR', 'POBP', 'SEX', 'RAC1P']\n",
    "protected_attrs = ['AGEP', 'MAR', 'POBP', 'SEX', 'RAC1P']\n",
    "# ['AGEP', 'COW', 'SCHL', 'MAR', 'OCCP', 'POBP', 'RELP', 'WKHP', 'SEX', 'RAC1P']\n",
    "continuous_feats = []\n",
    "feature_map = {}\n",
    "\n",
    "seed = 42\n",
    "n_samples = 1000\n",
    "method = \"MSD\"\n",
    "method_kwargs = {\"time_limit\": 120}  # 2 min per solve"
   ]
  },
  {
   "cell_type": "markdown",
   "id": "821286c5",
   "metadata": {},
   "source": [
    "## Load & Prepare Data via Folktables"
   ]
  },
  {
   "cell_type": "code",
   "execution_count": 4,
   "id": "54787469",
   "metadata": {},
   "outputs": [],
   "source": [
    "def load_state_manual():\n",
    "    \"\"\"\n",
    "    Attempts to download via folktables; if that fails, expects you to have\n",
    "    manually downloaded & unzipped the two CSV zips into data_root/{year}/{horizon}/\n",
    "    \"\"\"\n",
    "    ds = ACSDataSource(\n",
    "        survey_year=survey_year,\n",
    "        horizon=horizon,\n",
    "        survey=\"person\",\n",
    "        root_dir=data_root,\n",
    "    )\n",
    "    try:\n",
    "        # try folktables' automatic downloader\n",
    "        raw = ds.get_data(states=[state1, state2], download=True)\n",
    "    except Exception as e:\n",
    "        print(\"\\n⚠️  Automatic download failed:\")\n",
    "        print(f\"    {e!r}\\n\")\n",
    "        print(\"→ Please manually download these two files and unzip them under:\")\n",
    "        print(f\"    {data_root}/{survey_year}/{horizon}/csv_p{state1.lower()}.zip\")\n",
    "        print(f\"    {data_root}/{survey_year}/{horizon}/csv_p{state2.lower()}.zip\")\n",
    "        print(\"\\nYou can get them from:\")\n",
    "        print(f\"https://www2.census.gov/programs-surveys/acs/data/pums/{survey_year}/{horizon}/\\n\")\n",
    "        # now try again, without download flag, so folktables will read from disk:\n",
    "        raw = ds.get_data(states=[state1, state2], download=False)\n",
    "    return raw"
   ]
  },
  {
   "cell_type": "code",
   "execution_count": 5,
   "id": "be07e8a9",
   "metadata": {},
   "outputs": [],
   "source": [
    "_POBP_STATE_CODE = {\n",
    "    \"AL\":  1,  # Alabama\n",
    "    \"AK\":  2,  # Alaska\n",
    "    \"AZ\":  4,  # Arizona\n",
    "    \"AR\":  5,  # Arkansas\n",
    "    \"CA\":  6,  # California\n",
    "    \"CO\":  8,  # Colorado\n",
    "    \"CT\":  9,  # Connecticut\n",
    "    \"DE\": 10,  # Delaware\n",
    "    \"DC\": 11,  # District of Columbia\n",
    "    \"FL\": 12,  # Florida\n",
    "    \"GA\": 13,  # Georgia\n",
    "    \"HI\": 15,  # Hawaii\n",
    "    \"ID\": 16,  # Idaho\n",
    "    \"IL\": 17,  # Illinois\n",
    "    \"IN\": 18,  # Indiana\n",
    "    \"IA\": 19,  # Iowa\n",
    "    \"KS\": 20,  # Kansas\n",
    "    \"KY\": 21,  # Kentucky\n",
    "    \"LA\": 22,  # Louisiana\n",
    "    \"ME\": 23,  # Maine\n",
    "    \"MD\": 24,  # Maryland\n",
    "    \"MA\": 25,  # Massachusetts\n",
    "    \"MI\": 26,  # Michigan\n",
    "    \"MN\": 27,  # Minnesota\n",
    "    \"MS\": 28,  # Mississippi\n",
    "    \"MO\": 29,  # Missouri\n",
    "    \"MT\": 30,  # Montana\n",
    "    \"NE\": 31,  # Nebraska\n",
    "    \"NV\": 32,  # Nevada\n",
    "    \"NH\": 33,  # New Hampshire\n",
    "    \"NJ\": 34,  # New Jersey\n",
    "    \"NM\": 35,  # New Mexico\n",
    "    \"NY\": 36,  # New York\n",
    "    \"NC\": 37,  # North Carolina\n",
    "    \"ND\": 38,  # North Dakota\n",
    "    \"OH\": 39,  # Ohio\n",
    "    \"OK\": 40,  # Oklahoma\n",
    "    \"OR\": 41,  # Oregon\n",
    "    \"PA\": 42,  # Pennsylvania\n",
    "    \"RI\": 44,  # Rhode Island\n",
    "    \"SC\": 45,  # South Carolina\n",
    "    \"SD\": 46,  # South Dakota\n",
    "    \"TN\": 47,  # Tennessee\n",
    "    \"TX\": 48,  # Texas\n",
    "    \"UT\": 49,  # Utah\n",
    "    \"VT\": 50,  # Vermont\n",
    "    \"VA\": 51,  # Virginia\n",
    "    \"WA\": 53,  # Washington\n",
    "    \"WV\": 54,  # West Virginia\n",
    "    \"WI\": 55,  # Wisconsin\n",
    "}\n",
    "\n",
    "def state_to_pobp_code(abbrev: str) -> int:\n",
    "    \"\"\"\n",
    "    Turn a two-letter state code (e.g. 'CA') into the ACS POBP recode.\n",
    "    Raises a KeyError if the state isn't in the map.\n",
    "    \"\"\"\n",
    "    st = abbrev.strip().upper()\n",
    "    try:\n",
    "        return _POBP_STATE_CODE[st]\n",
    "    except KeyError:\n",
    "        raise KeyError(f\"Unknown state abbreviation '{abbrev}'. Valid codes are: \"\n",
    "                       + \", \".join(sorted(_POBP_STATE_CODE.keys())))"
   ]
  }
 ],
 "metadata": {
  "kernelspec": {
   "display_name": ".venv",
   "language": "python",
   "name": "python3"
  },
  "language_info": {
   "codemirror_mode": {
    "name": "ipython",
    "version": 3
   },
   "file_extension": ".py",
   "mimetype": "text/x-python",
   "name": "python",
   "nbconvert_exporter": "python",
   "pygments_lexer": "ipython3",
   "version": "3.13.3"
  }
 },
 "nbformat": 4,
 "nbformat_minor": 5
}
