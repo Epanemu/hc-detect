{
 "cells": [
  {
   "cell_type": "markdown",
   "id": "2b764402",
   "metadata": {},
   "source": [
    "# Folktables: Real‐World Bias Detection with MSD"
   ]
  },
  {
   "cell_type": "markdown",
   "id": "adc690ca",
   "metadata": {},
   "source": [
    "## Configuration & Imports"
   ]
  },
  {
   "cell_type": "code",
   "execution_count": 1,
   "id": "7c60cf15",
   "metadata": {},
   "outputs": [],
   "source": [
    "import numpy as np\n",
    "import pandas as pd\n",
    "\n",
    "from folktables import ACSDataSource, ACSIncome\n",
    "from humancompatible.detect import detect_bias, detect_bias_two_samples"
   ]
  },
  {
   "cell_type": "markdown",
   "id": "f183c9f7",
   "metadata": {},
   "source": [
    "#### Main parameters"
   ]
  },
  {
   "cell_type": "code",
   "execution_count": 2,
   "id": "8ff2967f",
   "metadata": {},
   "outputs": [],
   "source": [
    "state1 = \"HI\"\n",
    "state2 = \"ME\""
   ]
  },
  {
   "cell_type": "markdown",
   "id": "57b714e5",
   "metadata": {},
   "source": [
    "#### Extra parameters"
   ]
  },
  {
   "cell_type": "code",
   "execution_count": 3,
   "id": "8581c71e",
   "metadata": {},
   "outputs": [],
   "source": [
    "survey_year = \"2018\"\n",
    "horizon = \"1-Year\"\n",
    "data_root = \"../data/folktables\"\n",
    "\n",
    "selected_columns = ['AGEP', 'MAR', 'POBP', 'SEX', 'RAC1P']\n",
    "protected_attrs = ['AGEP', 'MAR', 'POBP', 'SEX', 'RAC1P']\n",
    "# ['AGEP', 'COW', 'SCHL', 'MAR', 'OCCP', 'POBP', 'RELP', 'WKHP', 'SEX', 'RAC1P']\n",
    "continuous_feats = []\n",
    "feature_map = {}\n",
    "\n",
    "seed = 42\n",
    "n_samples = 1000\n",
    "method = \"MSD\"\n",
    "method_kwargs = {\"time_limit\": 120}  # 2 min per solve"
   ]
  }
 ],
 "metadata": {
  "kernelspec": {
   "display_name": ".venv",
   "language": "python",
   "name": "python3"
  },
  "language_info": {
   "codemirror_mode": {
    "name": "ipython",
    "version": 3
   },
   "file_extension": ".py",
   "mimetype": "text/x-python",
   "name": "python",
   "nbconvert_exporter": "python",
   "pygments_lexer": "ipython3",
   "version": "3.13.3"
  }
 },
 "nbformat": 4,
 "nbformat_minor": 5
}
