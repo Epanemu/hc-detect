{
 "cells": [
  {
   "cell_type": "markdown",
   "id": "2b764402",
   "metadata": {},
   "source": [
    "# Folktables: Real-World Bias Detection with MSD\n",
    "\n",
    "In this notebook we load real-world American Community Survey (ACS) data (via [folktables](https://github.com/socialfoundations/folktables) and the [Census Bureau’s ACS program](https://www.census.gov/programs-surveys/acs/data.html \"American Community Survey data\"))  \n",
    " and use **Maximum Subgroup Discrepancy (MSD)** to:\n",
    "\n",
    "1. Find the most disadvantaged subgroup *within* each state (on the ACS Income ≥ $50 000 classification task)  \n",
    "2. Find the subgroup where two states differ *most*  \n",
    "\n",
    "**MSD** scans *all* intersectional protected groups (e.g. age×marital-status×race…) in **linear** sample time, returns both a **value** (percentage‐point gap) and an **interpretable rule** (a conjunction of feature‐value tests).\n"
   ]
  },
  {
   "cell_type": "markdown",
   "id": "adc690ca",
   "metadata": {},
   "source": [
    "## Configuration & Imports"
   ]
  },
  {
   "cell_type": "code",
   "execution_count": 1,
   "id": "7c60cf15",
   "metadata": {},
   "outputs": [],
   "source": [
    "import numpy as np\n",
    "import pandas as pd\n",
    "\n",
    "from folktables import ACSDataSource, ACSIncome\n",
    "from humancompatible.detect import detect_bias, detect_bias_two_samples"
   ]
  },
  {
   "cell_type": "markdown",
   "id": "bdeb10ad",
   "metadata": {},
   "source": [
    "## Parameters"
   ]
  },
  {
   "cell_type": "code",
   "execution_count": 2,
   "id": "8ff2967f",
   "metadata": {},
   "outputs": [],
   "source": [
    "# ────────── Which two states to compare ──────────\n",
    "state1, state2 = \"HI\", \"ME\"\n",
    "\n",
    "# ────────── ACS Data settings ──────────\n",
    "survey_year   = \"2018\"\n",
    "horizon       = \"1-Year\"\n",
    "data_root     = \"../data/folktables\"\n",
    "\n",
    "# ────────── Which columns to keep ──────────\n",
    "# ['AGEP', 'COW', 'SCHL', 'MAR', 'OCCP', 'POBP', 'RELP', 'WKHP', 'SEX', 'RAC1P']\n",
    "selected_columns = [\"AGEP\", \"MAR\", \"POBP\", \"SEX\", \"RAC1P\"]\n",
    "protected_attrs  = selected_columns.copy()\n",
    "continuous_feats = []\n",
    "feature_map      = {}  # any custom binning\n",
    "\n",
    "# ────────── Method settings ──────────\n",
    "seed          = 42\n",
    "n_samples     = 1_000  # if the code runs for too long, you can try to decrease this number\n",
    "method        = \"MSD\"\n",
    "solver        = \"gurobi\"\n",
    "method_kwargs = {\"time_limit\": 120,    # 2 min per solve\n",
    "                 \"solver\": \"gurobi\",  # if you don't have the licence, comment this line\n",
    "                 }"
   ]
  },
  {
   "cell_type": "markdown",
   "id": "821286c5",
   "metadata": {},
   "source": [
    "## Download & Prepare the Two-State Dataset"
   ]
  },
  {
   "cell_type": "code",
   "execution_count": 3,
   "id": "54787469",
   "metadata": {},
   "outputs": [],
   "source": [
    "def load_state_data(state_abbrev: str):\n",
    "    \"\"\"\n",
    "    Load data for a single state via folktables,\n",
    "    then return only our selected columns and the target series.\n",
    "    \"\"\"\n",
    "    ds = ACSDataSource(\n",
    "        survey_year=survey_year,\n",
    "        horizon=horizon,\n",
    "        survey=\"person\",\n",
    "        root_dir=data_root,\n",
    "    )\n",
    "    try:\n",
    "        raw = ds.get_data(states=[state_abbrev], download=True)\n",
    "    except Exception as e:\n",
    "        print(\"\\n⚠️  Automatic download failed:\")\n",
    "        print(f\"    {e!r}\\n\")\n",
    "        print(\"→ Please manually download this file and unzip it under:\")\n",
    "        print(f\"    {data_root}/{survey_year}/{horizon}/csv_p{state_abbrev.lower()}.zip\")\n",
    "        print(\"\\nYou can get it from:\")\n",
    "        print(f\"https://www2.census.gov/programs-surveys/acs/data/pums/{survey_year}/{horizon}/\\n\")\n",
    "        raw = ds.get_data(states=[state_abbrev], download=False)\n",
    "    \n",
    "    X_full, y_full, _ = ACSIncome.df_to_pandas(raw)\n",
    "    X_sel = X_full[selected_columns]\n",
    "    return X_sel, y_full"
   ]
  },
  {
   "cell_type": "code",
   "execution_count": 4,
   "id": "b6e3ddae",
   "metadata": {},
   "outputs": [
    {
     "name": "stdout",
     "output_type": "stream",
     "text": [
      "HI shape: (7731, 5)\n",
      "ME shape: (7002, 5)\n"
     ]
    },
    {
     "data": {
      "text/html": [
       "<div>\n",
       "<style scoped>\n",
       "    .dataframe tbody tr th:only-of-type {\n",
       "        vertical-align: middle;\n",
       "    }\n",
       "\n",
       "    .dataframe tbody tr th {\n",
       "        vertical-align: top;\n",
       "    }\n",
       "\n",
       "    .dataframe thead th {\n",
       "        text-align: right;\n",
       "    }\n",
       "</style>\n",
       "<table border=\"1\" class=\"dataframe\">\n",
       "  <thead>\n",
       "    <tr style=\"text-align: right;\">\n",
       "      <th></th>\n",
       "      <th>AGEP</th>\n",
       "      <th>MAR</th>\n",
       "      <th>POBP</th>\n",
       "      <th>SEX</th>\n",
       "      <th>RAC1P</th>\n",
       "    </tr>\n",
       "  </thead>\n",
       "  <tbody>\n",
       "    <tr>\n",
       "      <th>0</th>\n",
       "      <td>18.0</td>\n",
       "      <td>5.0</td>\n",
       "      <td>66.0</td>\n",
       "      <td>2.0</td>\n",
       "      <td>1.0</td>\n",
       "    </tr>\n",
       "    <tr>\n",
       "      <th>1</th>\n",
       "      <td>22.0</td>\n",
       "      <td>5.0</td>\n",
       "      <td>48.0</td>\n",
       "      <td>1.0</td>\n",
       "      <td>1.0</td>\n",
       "    </tr>\n",
       "    <tr>\n",
       "      <th>2</th>\n",
       "      <td>18.0</td>\n",
       "      <td>5.0</td>\n",
       "      <td>15.0</td>\n",
       "      <td>2.0</td>\n",
       "      <td>7.0</td>\n",
       "    </tr>\n",
       "    <tr>\n",
       "      <th>3</th>\n",
       "      <td>18.0</td>\n",
       "      <td>5.0</td>\n",
       "      <td>34.0</td>\n",
       "      <td>1.0</td>\n",
       "      <td>2.0</td>\n",
       "    </tr>\n",
       "    <tr>\n",
       "      <th>4</th>\n",
       "      <td>29.0</td>\n",
       "      <td>5.0</td>\n",
       "      <td>45.0</td>\n",
       "      <td>1.0</td>\n",
       "      <td>1.0</td>\n",
       "    </tr>\n",
       "  </tbody>\n",
       "</table>\n",
       "</div>"
      ],
      "text/plain": [
       "   AGEP  MAR  POBP  SEX  RAC1P\n",
       "0  18.0  5.0  66.0  2.0    1.0\n",
       "1  22.0  5.0  48.0  1.0    1.0\n",
       "2  18.0  5.0  15.0  2.0    7.0\n",
       "3  18.0  5.0  34.0  1.0    2.0\n",
       "4  29.0  5.0  45.0  1.0    1.0"
      ]
     },
     "metadata": {},
     "output_type": "display_data"
    }
   ],
   "source": [
    "X1, y1 = load_state_data(state1)\n",
    "X2, y2 = load_state_data(state2)\n",
    "\n",
    "print(f\"{state1} shape:\", X1.shape)\n",
    "print(f\"{state2} shape:\", X2.shape)\n",
    "\n",
    "display(X1.head())"
   ]
  },
  {
   "cell_type": "markdown",
   "id": "c40d8469",
   "metadata": {},
   "source": [
    "## State-Code Utility"
   ]
  },
  {
   "cell_type": "code",
   "execution_count": 5,
   "id": "be07e8a9",
   "metadata": {},
   "outputs": [],
   "source": [
    "_POBP_STATE_CODE = {\n",
    "    \"AL\":  1,  # Alabama\n",
    "    \"AK\":  2,  # Alaska\n",
    "    \"AZ\":  4,  # Arizona\n",
    "    \"AR\":  5,  # Arkansas\n",
    "    \"CA\":  6,  # California\n",
    "    \"CO\":  8,  # Colorado\n",
    "    \"CT\":  9,  # Connecticut\n",
    "    \"DE\": 10,  # Delaware\n",
    "    \"DC\": 11,  # District of Columbia\n",
    "    \"FL\": 12,  # Florida\n",
    "    \"GA\": 13,  # Georgia\n",
    "    \"HI\": 15,  # Hawaii\n",
    "    \"ID\": 16,  # Idaho\n",
    "    \"IL\": 17,  # Illinois\n",
    "    \"IN\": 18,  # Indiana\n",
    "    \"IA\": 19,  # Iowa\n",
    "    \"KS\": 20,  # Kansas\n",
    "    \"KY\": 21,  # Kentucky\n",
    "    \"LA\": 22,  # Louisiana\n",
    "    \"ME\": 23,  # Maine\n",
    "    \"MD\": 24,  # Maryland\n",
    "    \"MA\": 25,  # Massachusetts\n",
    "    \"MI\": 26,  # Michigan\n",
    "    \"MN\": 27,  # Minnesota\n",
    "    \"MS\": 28,  # Mississippi\n",
    "    \"MO\": 29,  # Missouri\n",
    "    \"MT\": 30,  # Montana\n",
    "    \"NE\": 31,  # Nebraska\n",
    "    \"NV\": 32,  # Nevada\n",
    "    \"NH\": 33,  # New Hampshire\n",
    "    \"NJ\": 34,  # New Jersey\n",
    "    \"NM\": 35,  # New Mexico\n",
    "    \"NY\": 36,  # New York\n",
    "    \"NC\": 37,  # North Carolina\n",
    "    \"ND\": 38,  # North Dakota\n",
    "    \"OH\": 39,  # Ohio\n",
    "    \"OK\": 40,  # Oklahoma\n",
    "    \"OR\": 41,  # Oregon\n",
    "    \"PA\": 42,  # Pennsylvania\n",
    "    \"RI\": 44,  # Rhode Island\n",
    "    \"SC\": 45,  # South Carolina\n",
    "    \"SD\": 46,  # South Dakota\n",
    "    \"TN\": 47,  # Tennessee\n",
    "    \"TX\": 48,  # Texas\n",
    "    \"UT\": 49,  # Utah\n",
    "    \"VT\": 50,  # Vermont\n",
    "    \"VA\": 51,  # Virginia\n",
    "    \"WA\": 53,  # Washington\n",
    "    \"WV\": 54,  # West Virginia\n",
    "    \"WI\": 55,  # Wisconsin\n",
    "}\n",
    "\n",
    "def state_to_pobp_code(abbrev: str) -> int:\n",
    "    \"\"\"\n",
    "    Turn a two-letter state code (e.g. 'CA') into the ACS POBP recode.\n",
    "    Raises a KeyError if the state isn't in the map.\n",
    "    \"\"\"\n",
    "    st = abbrev.strip().upper()\n",
    "    try:\n",
    "        return _POBP_STATE_CODE[st]\n",
    "    except KeyError:\n",
    "        raise KeyError(f\"Unknown state abbreviation '{abbrev}'. Valid codes are: \"\n",
    "                       + \", \".join(sorted(_POBP_STATE_CODE.keys())))"
   ]
  },
  {
   "cell_type": "markdown",
   "id": "5e075cc8",
   "metadata": {},
   "source": [
    "## Within-State Bias Detection"
   ]
  },
  {
   "cell_type": "markdown",
   "id": "a103f27b",
   "metadata": {},
   "source": [
    "> **Task: ACS Income (> \\$50 000) Classification**  \n",
    "> We use the **ACSIncome** problem from **folktables**, which predicts whether an individual’s personal income (`PINCP`) exceeds \\$50 000 per year.  \n",
    "> \n",
    "> - **Features used**:  \n",
    ">   - `AGEP` (Age in years, must be > 16)  \n",
    ">   - `MAR` (Marital status)  \n",
    ">   - `POBP` (Place of birth / state)  \n",
    ">   - `SEX` (Male / Female)  \n",
    ">   - `RAC1P` (Race recode)  \n",
    "> - **Target**: 1 if `PINCP > 50 000`, else 0  \n",
    ">\n",
    "> - **Preprocessing** (built-in to ACSIncome and our solver):\n",
    ">   - Filter out individuals under 16  \n",
    ">   - Filter out zero or missing wages  \n",
    ">   - Normalize missing values to –1  \n",
    "> \n",
    "> Our within-state **MSD** then finds the protected subgroup (e.g. \"never-married\", \"married men\", etc.) whose positive-vs-negative income rate differs the most from its complement."
   ]
  },
  {
   "cell_type": "code",
   "execution_count": 6,
   "id": "9f1d0586",
   "metadata": {},
   "outputs": [
    {
     "name": "stderr",
     "output_type": "stream",
     "text": [
      "[INFO] Seeding the run with seed=42\n",
      "[INFO] Set parameter Username\n",
      "[INFO] Set parameter LicenseID to value 2649381\n",
      "[INFO] Academic license - for non-commercial use only - expires 2026-04-09\n"
     ]
    },
    {
     "name": "stdout",
     "output_type": "stream",
     "text": [
      "State HI MSD (within-state) = 0.272\n",
      "Rule: MAR = 5.0\n"
     ]
    }
   ],
   "source": [
    "msd_val_1, rule_1 = detect_bias(\n",
    "    X1, y1,\n",
    "    protected_list  = protected_attrs,\n",
    "    continuous_list = continuous_feats,\n",
    "    fp_map          = feature_map,\n",
    "    seed            = seed,\n",
    "    n_samples       = n_samples,\n",
    "    method          = method,\n",
    "    method_kwargs   = method_kwargs,\n",
    ")\n",
    "\n",
    "print(f\"State {state1} MSD (within-state) = {msd_val_1:.3f}\")\n",
    "print(\"Rule:\", \" AND \".join(str(r) for _,r in rule_1))"
   ]
  },
  {
   "cell_type": "code",
   "execution_count": 7,
   "id": "5abd193f",
   "metadata": {},
   "outputs": [
    {
     "name": "stderr",
     "output_type": "stream",
     "text": [
      "[INFO] Seeding the run with seed=42\n"
     ]
    },
    {
     "name": "stdout",
     "output_type": "stream",
     "text": [
      "State HI MSD (within-state) = 0.329\n",
      "Rule: MAR = 1.0 AND SEX = 1.0\n"
     ]
    }
   ],
   "source": [
    "msd_val_2, rule_2 = detect_bias(\n",
    "    X2, y2,\n",
    "    protected_list  = protected_attrs,\n",
    "    continuous_list = continuous_feats,\n",
    "    fp_map          = feature_map,\n",
    "    seed            = seed,\n",
    "    n_samples       = n_samples,\n",
    "    method          = method,\n",
    "    method_kwargs   = method_kwargs,\n",
    ")\n",
    "\n",
    "print(f\"State {state1} MSD (within-state) = {msd_val_2:.3f}\")\n",
    "print(\"Rule:\", \" AND \".join(str(r) for _,r in rule_2))"
   ]
  },
  {
   "cell_type": "markdown",
   "id": "c3046496",
   "metadata": {},
   "source": [
    "## Interpret the Rules\n",
    "\n",
    "Folktables encodes `MAR` (marital status) as:\n",
    "\n",
    "| Code | Meaning       |\n",
    "|------|---------------|\n",
    "| 1    | Married       |\n",
    "| 2    | Widowed       |\n",
    "| 3    | Divorced      |\n",
    "| 4    | Separated     |\n",
    "| 5    | Never married |\n",
    "\n",
    "And `SEX` as:\n",
    "\n",
    "| Code | Meaning |\n",
    "|------|---------|\n",
    "| 1    | Male    |\n",
    "| 2    | Female  |\n",
    "\n",
    "- **State HI:** `MAR = 5.0` --> \"Never married\" people are underserved by up to **27.2 pp**.  \n",
    "- **State ME:** `MAR = 1.0 AND SEX = 1.0` --> \"Married men\" are underserved by up to **32.9 pp**.  "
   ]
  },
  {
   "cell_type": "markdown",
   "id": "6ca7f8f5",
   "metadata": {},
   "source": [
    "## Cross-State Discrepancy"
   ]
  },
  {
   "cell_type": "code",
   "execution_count": 8,
   "id": "02900ffe",
   "metadata": {},
   "outputs": [
    {
     "name": "stderr",
     "output_type": "stream",
     "text": [
      "[INFO] Seeding the run with seed=42\n"
     ]
    },
    {
     "name": "stdout",
     "output_type": "stream",
     "text": [
      "HI vs ME MSD = 0.709\n",
      "Rule: RAC1P = 1.0\n"
     ]
    }
   ],
   "source": [
    "msd_cross, rule_cross = detect_bias_two_samples(\n",
    "    X1, X2, \n",
    "    protected_list=protected_attrs,\n",
    "    continuous_list=continuous_feats,\n",
    "    fp_map=feature_map,\n",
    "    seed=seed,\n",
    "    n_samples=n_samples,\n",
    "    method=method,\n",
    "    method_kwargs=method_kwargs\n",
    ")\n",
    "print(f\"HI vs ME MSD = {msd_cross:.3f}\")\n",
    "print(\"Rule: \" + \" AND \".join(str(r) for _,r in rule_cross))"
   ]
  },
  {
   "cell_type": "markdown",
   "id": "1a182285",
   "metadata": {},
   "source": [
    "The **HI vs ME MSD** of **0.709** means that the subgroup  \n",
    "**`RAC1P = 1.0`**  \n",
    "(\"White\" in the ACS race recode) differs by **70.9 percentage points** between Hawaii and Maine.\n",
    "\n",
    "In other words, \"White\" individuals make up almost 71 pp more of one state's sample than the other's - this is by far the largest intersectional gap between the two populations."
   ]
  },
  {
   "cell_type": "markdown",
   "id": "8ed0467e",
   "metadata": {},
   "source": [
    "## Conclusion\n",
    "\n",
    "In this notebook, we have seen how **Maximum Subgroup Discrepancy (MSD)** can uncover both within-population and cross-population biases in a real-world dataset:\n",
    "\n",
    "1. **Within-State Biases**  \n",
    "   - For **Hawaii**, the most disadvantaged subgroup was defined by  \n",
    "     `MAR = 5.0`  \n",
    "     (\"Never married\"), with an MSD of **0.272**, indicating that \"never married\" individuals appear 27.2 pp more often in one outcome than the other.  \n",
    "   - For **Maine**, the worst subgroup was  \n",
    "     `MAR = 1.0 AND SEX = 1.0`  \n",
    "     (\"Married men\"), with an MSD of **0.329**.\n",
    "\n",
    "2. **Cross-State Drift**  \n",
    "   - Comparing **Hawaii vs Maine**, the top rule was  \n",
    "     `RAC1P = 1.0`  \n",
    "     (\"White\"), with an MSD of **0.709** - an 70.9 pp gap in racial composition.\n",
    "\n",
    "\n",
    "\n",
    "Feel free to play with different feature sets, years, or other folktables problems (ACSPublicCoverage, ACSMobility, ...)."
   ]
  }
 ],
 "metadata": {
  "kernelspec": {
   "display_name": ".venv",
   "language": "python",
   "name": "python3"
  },
  "language_info": {
   "codemirror_mode": {
    "name": "ipython",
    "version": 3
   },
   "file_extension": ".py",
   "mimetype": "text/x-python",
   "name": "python",
   "nbconvert_exporter": "python",
   "pygments_lexer": "ipython3",
   "version": "3.13.3"
  }
 },
 "nbformat": 4,
 "nbformat_minor": 5
}
