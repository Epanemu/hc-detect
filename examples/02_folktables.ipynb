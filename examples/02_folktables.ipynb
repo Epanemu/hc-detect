{
 "cells": [
  {
   "cell_type": "markdown",
   "id": "2b764402",
   "metadata": {},
   "source": [
    "# Folktables: Real-World Bias Detection with MSD\n",
    "\n",
    "In this notebook we load real-world American Community Survey (ACS) data (via [folktables](https://github.com/socialfoundations/folktables) and the [Census Bureau’s ACS program](https://www.census.gov/programs-surveys/acs/data.html \"American Community Survey data\"))  \n",
    " and use **Maximum Subgroup Discrepancy (MSD)** to:\n",
    "\n",
    "1. Find the most disadvantaged subgroup *within* each state (on the ACS Income ≥ $50 000 classification task)  \n",
    "2. Find the subgroup where two states differ *most*  \n",
    "\n",
    "**MSD** scans *all* intersectional protected groups (e.g. age×marital-status×race…) in **linear** sample time, returns both a **value** (percentage‐point gap) and an **interpretable rule** (a conjunction of feature‐value tests).\n"
   ]
  },
  {
   "cell_type": "markdown",
   "id": "adc690ca",
   "metadata": {},
   "source": [
    "## Configuration & Imports"
   ]
  },
  {
   "cell_type": "code",
   "execution_count": 1,
   "id": "7c60cf15",
   "metadata": {},
   "outputs": [],
   "source": [
    "import numpy as np\n",
    "import pandas as pd\n",
    "\n",
    "from folktables import ACSDataSource\n",
    "from humancompatible.detect import detect_bias, detect_bias_two_samples"
   ]
  },
  {
   "cell_type": "markdown",
   "id": "a2c40915",
   "metadata": {},
   "source": [
    "## PUMS Data Dictionary\n",
    "\n",
    "For a complete list of all ACS PUMS variables, their codes and labels (e.g. every state code for `POBP`, every education level for `SCHL`, etc.), see the official 2018 PUMS Data Dictionary:\n",
    "\n",
    "> **PUMS Data Dictionary (2018)**  \n",
    "> https://www2.census.gov/programs-surveys/acs/tech_docs/pums/data_dict/PUMS_Data_Dictionary_2018.pdf"
   ]
  },
  {
   "cell_type": "markdown",
   "id": "bdeb10ad",
   "metadata": {},
   "source": [
    "## Parameters"
   ]
  },
  {
   "cell_type": "code",
   "execution_count": 2,
   "id": "46bafef0",
   "metadata": {},
   "outputs": [],
   "source": [
    "# ────────── Which two states to compare ──────────\n",
    "state1, state2 = \"FL\", \"NH\"\n",
    "\n",
    "# We’ll run the Income ≥ 50k task for each state:\n",
    "from folktables import ACSIncome as Dataset"
   ]
  },
  {
   "cell_type": "markdown",
   "id": "079b59f8",
   "metadata": {},
   "source": [
    "> **Next compile the bottom part of the notebook!**\n",
    ">\n",
    "> Advanced parameters you can find in the bottom of the notebook!"
   ]
  },
  {
   "cell_type": "markdown",
   "id": "821286c5",
   "metadata": {},
   "source": [
    "## Download & Prepare the Two-State Dataset"
   ]
  },
  {
   "cell_type": "code",
   "execution_count": 8,
   "id": "54787469",
   "metadata": {},
   "outputs": [],
   "source": [
    "def load_state_data(state_abbrev: str):\n",
    "    \"\"\"\n",
    "    Load data for a single state via folktables,\n",
    "    then return only our selected columns and the target series.\n",
    "    \"\"\"\n",
    "    ds = ACSDataSource(\n",
    "        survey_year=survey_year,\n",
    "        horizon=horizon,\n",
    "        survey=\"person\",\n",
    "        root_dir=data_root,\n",
    "    )\n",
    "    try:\n",
    "        raw = ds.get_data(states=[state_abbrev], download=True)\n",
    "    except Exception as e:\n",
    "        print(\"\\n⚠️  Automatic download failed:\")\n",
    "        print(f\"    {e!r}\\n\")\n",
    "        print(\"→ Please manually download this file and unzip it under:\")\n",
    "        print(f\"    {data_root}/{survey_year}/{horizon}/csv_p{state_abbrev.lower()}.zip\")\n",
    "        print(\"\\nYou can get it from:\")\n",
    "        print(f\"https://www2.census.gov/programs-surveys/acs/data/pums/{survey_year}/{horizon}/\\n\")\n",
    "        raw = ds.get_data(states=[state_abbrev], download=False)\n",
    "    \n",
    "    X_full, y_full, _ = Dataset.df_to_pandas(raw)\n",
    "    X_sel = X_full[selected_columns]\n",
    "    return X_sel, y_full"
   ]
  },
  {
   "cell_type": "code",
   "execution_count": 9,
   "id": "b6e3ddae",
   "metadata": {},
   "outputs": [
    {
     "name": "stdout",
     "output_type": "stream",
     "text": [
      "FL shape: (98925, 5)\n",
      "NH shape: (7966, 5)\n"
     ]
    },
    {
     "data": {
      "text/html": [
       "<div>\n",
       "<style scoped>\n",
       "    .dataframe tbody tr th:only-of-type {\n",
       "        vertical-align: middle;\n",
       "    }\n",
       "\n",
       "    .dataframe tbody tr th {\n",
       "        vertical-align: top;\n",
       "    }\n",
       "\n",
       "    .dataframe thead th {\n",
       "        text-align: right;\n",
       "    }\n",
       "</style>\n",
       "<table border=\"1\" class=\"dataframe\">\n",
       "  <thead>\n",
       "    <tr style=\"text-align: right;\">\n",
       "      <th></th>\n",
       "      <th>AGEP</th>\n",
       "      <th>SCHL</th>\n",
       "      <th>OCCP</th>\n",
       "      <th>SEX</th>\n",
       "      <th>RAC1P</th>\n",
       "    </tr>\n",
       "  </thead>\n",
       "  <tbody>\n",
       "    <tr>\n",
       "      <th>0</th>\n",
       "      <td>20.0</td>\n",
       "      <td>16.0</td>\n",
       "      <td>5240.0</td>\n",
       "      <td>1.0</td>\n",
       "      <td>9.0</td>\n",
       "    </tr>\n",
       "    <tr>\n",
       "      <th>1</th>\n",
       "      <td>18.0</td>\n",
       "      <td>18.0</td>\n",
       "      <td>4622.0</td>\n",
       "      <td>2.0</td>\n",
       "      <td>2.0</td>\n",
       "    </tr>\n",
       "    <tr>\n",
       "      <th>2</th>\n",
       "      <td>18.0</td>\n",
       "      <td>18.0</td>\n",
       "      <td>4130.0</td>\n",
       "      <td>1.0</td>\n",
       "      <td>1.0</td>\n",
       "    </tr>\n",
       "    <tr>\n",
       "      <th>3</th>\n",
       "      <td>25.0</td>\n",
       "      <td>20.0</td>\n",
       "      <td>9825.0</td>\n",
       "      <td>1.0</td>\n",
       "      <td>1.0</td>\n",
       "    </tr>\n",
       "    <tr>\n",
       "      <th>4</th>\n",
       "      <td>27.0</td>\n",
       "      <td>17.0</td>\n",
       "      <td>2060.0</td>\n",
       "      <td>2.0</td>\n",
       "      <td>1.0</td>\n",
       "    </tr>\n",
       "  </tbody>\n",
       "</table>\n",
       "</div>"
      ],
      "text/plain": [
       "   AGEP  SCHL    OCCP  SEX  RAC1P\n",
       "0  20.0  16.0  5240.0  1.0    9.0\n",
       "1  18.0  18.0  4622.0  2.0    2.0\n",
       "2  18.0  18.0  4130.0  1.0    1.0\n",
       "3  25.0  20.0  9825.0  1.0    1.0\n",
       "4  27.0  17.0  2060.0  2.0    1.0"
      ]
     },
     "metadata": {},
     "output_type": "display_data"
    }
   ],
   "source": [
    "X1, y1 = load_state_data(state1)\n",
    "X2, y2 = load_state_data(state2)\n",
    "\n",
    "print(f\"{state1} shape:\", X1.shape)\n",
    "print(f\"{state2} shape:\", X2.shape)\n",
    "\n",
    "display(X1.head())"
   ]
  },
  {
   "cell_type": "markdown",
   "id": "5e075cc8",
   "metadata": {},
   "source": [
    "## Within-State Bias Detection"
   ]
  },
  {
   "cell_type": "markdown",
   "id": "a103f27b",
   "metadata": {},
   "source": [
    "> **Task: ACS Income (> \\$50 000) Classification**  \n",
    "> We use the **ACSIncome** problem from **folktables**, which predicts whether an individual’s personal income (`PINCP`) exceeds \\$50 000 per year.  \n",
    "> \n",
    "> - **Features used**:  \n",
    ">   - `AGEP` (Age in years, must be > 16)  \n",
    ">   - `SCHL` (Educational attainment)  \n",
    ">   - `OCCP` (Occupation recode)  \n",
    ">   - `SEX` (Male / Female)  \n",
    ">   - `RAC1P` (Race recode)  \n",
    "> - **Target**: 1 if `PINCP > 50 000`, else 0  \n",
    ">\n",
    "> - **Preprocessing** (built‐in to `ACSIncome` and our solver):  \n",
    ">   - Filter out individuals under 16  \n",
    ">   - Filter out zero or missing income (`PINCP`)  \n",
    ">   - Map any remaining missing categories to –1  \n",
    "> \n",
    "> Our within‐state **MSD** then finds the protected subgroup (e.g. \"White & Male\", etc.) whose high-vs-low-income rate differs the most from its complement."
   ]
  },
  {
   "cell_type": "code",
   "execution_count": null,
   "id": "9f1d0586",
   "metadata": {},
   "outputs": [
    {
     "name": "stderr",
     "output_type": "stream",
     "text": [
      "[INFO] Seeding the run with seed=42\n",
      "[INFO] Set parameter Username\n",
      "[INFO] Set parameter LicenseID to value 2649381\n",
      "[INFO] Academic license - for non-commercial use only - expires 2026-04-09\n"
     ]
    },
    {
     "name": "stdout",
     "output_type": "stream",
     "text": [
      "State FL\n",
      "MSD (within-state) = 0.193\n",
      "Rule: RAC1P = 1.0 AND SEX = 1.0\n",
      "Explained rule: Race = White AND Sex = Male\n"
     ]
    }
   ],
   "source": [
    "msd_val_1, rule_1 = detect_bias(\n",
    "    X1, y1,\n",
    "    protected_list=protected_attrs,\n",
    "    continuous_list=continuous_feats,\n",
    "    fp_map=feature_map,\n",
    "    n_samples=n_samples,\n",
    "    seed=seed,\n",
    "    method=method,\n",
    "    method_kwargs=method_kwargs\n",
    ")\n",
    "\n",
    "report_subgroup_bias(\n",
    "    f\"State {state1}\",\n",
    "    msd_val_1,\n",
    "    rule_1,\n",
    "    selected_columns,\n",
    "    FEATURE_NAMES,\n",
    "    PROTECTED_VALUES_MAP,\n",
    ")"
   ]
  },
  {
   "cell_type": "markdown",
   "id": "582bb72c",
   "metadata": {},
   "source": [
    "> You’re seeing both the raw rule (e.g. `RAC1P = 1.0 AND SEX = 1.0`) and a human-readable version (“Race = White AND Sex = Male”) produced by our `report_subgroup_bias` helper.  \n",
    "> \n",
    "> For a complete list of every ACS variable’s codes and labels (so you can look up other states, education levels, etc.), see the official 2018 PUMS Data Dictionary:  \n",
    "> https://www2.census.gov/programs-surveys/acs/tech_docs/pums/data_dict/PUMS_Data_Dictionary_2018.pdf\n"
   ]
  },
  {
   "cell_type": "code",
   "execution_count": null,
   "id": "5abd193f",
   "metadata": {},
   "outputs": [
    {
     "name": "stderr",
     "output_type": "stream",
     "text": [
      "[INFO] Seeding the run with seed=42\n"
     ]
    },
    {
     "name": "stdout",
     "output_type": "stream",
     "text": [
      "State NH\n",
      "MSD (within-state) = 0.217\n",
      "Rule: RAC1P = 1.0 AND SEX = 1.0\n",
      "Explained rule: Race = White AND Sex = Male\n"
     ]
    }
   ],
   "source": [
    "msd_val_2, rule_2 = detect_bias(\n",
    "    X2, y2,\n",
    "    protected_list=protected_attrs,\n",
    "    continuous_list=continuous_feats,\n",
    "    fp_map=feature_map,\n",
    "    n_samples=n_samples,\n",
    "    seed=seed,\n",
    "    method=method,\n",
    "    method_kwargs=method_kwargs\n",
    ")\n",
    "\n",
    "report_subgroup_bias(\n",
    "    f\"State {state2}\",\n",
    "    msd_val_2,\n",
    "    rule_2,\n",
    "    selected_columns,\n",
    "    FEATURE_NAMES,\n",
    "    PROTECTED_VALUES_MAP,\n",
    ")"
   ]
  },
  {
   "cell_type": "markdown",
   "id": "4ade353c",
   "metadata": {},
   "source": [
    "> You’re seeing both the raw rule (e.g. `RAC1P = 1.0 AND SEX = 1.0`) and a human-readable version (“Race = White AND Sex = Male”) produced by our `report_subgroup_bias` helper.  \n",
    "> \n",
    "> For a complete list of every ACS variable’s codes and labels (so you can look up other states, education levels, etc.), see the official 2018 PUMS Data Dictionary:  \n",
    "> https://www2.census.gov/programs-surveys/acs/tech_docs/pums/data_dict/PUMS_Data_Dictionary_2018.pdf\n"
   ]
  },
  {
   "cell_type": "markdown",
   "id": "c3046496",
   "metadata": {},
   "source": [
    "## Interpret the Rules\n",
    "\n",
    "Folktables encodes `RAC1P` (race) as:\n",
    "\n",
    "| Code | Meaning |\n",
    "|------|---------|\n",
    "| 1    | White   |\n",
    "| 2    | Black   |\n",
    "| 3    | American Indian or Alaska Native |\n",
    "| 4    | Alaska Native alone |\n",
    "| 5    | Native Hawaiian or Other Pacific Islander |\n",
    "| 6    | Asian   |\n",
    "| 7    | Pacific Islander alone |\n",
    "| 8    | Some Other Race |\n",
    "| 9    | Two or More Races |\n",
    "\n",
    "And `SEX` as:\n",
    "\n",
    "| Code | Meaning |\n",
    "|------|---------|\n",
    "| 1    | Male    |\n",
    "| 2    | Female  |\n",
    "\n",
    "- **State FL:**  \n",
    "  `RAC1P = 1.0 AND SEX = 1.0` -> \"White & Male\" are disproportionately represented by up to **19.3 pp**.  \n",
    "- **State NH:**  \n",
    "  `RAC1P = 1.0 AND SEX = 1.0` -> \"White & Male\" are disproportionately represented by up to **21.7 pp**.  "
   ]
  },
  {
   "cell_type": "markdown",
   "id": "6ca7f8f5",
   "metadata": {},
   "source": [
    "## Cross-State Discrepancy"
   ]
  },
  {
   "cell_type": "code",
   "execution_count": null,
   "id": "02900ffe",
   "metadata": {},
   "outputs": [
    {
     "name": "stderr",
     "output_type": "stream",
     "text": [
      "[INFO] Seeding the run with seed=42\n"
     ]
    },
    {
     "name": "stdout",
     "output_type": "stream",
     "text": [
      "FL vs NH\n",
      "MSD = 0.177\n",
      "Rule: SCHL = 16.0 AND RAC1P = 1.0\n",
      "Explained rule: Educational attainment = Doctorate degree AND Race = White\n"
     ]
    }
   ],
   "source": [
    "msd_cross, rule_cross = detect_bias_two_samples(\n",
    "    X1, X2, \n",
    "    protected_list=protected_attrs,\n",
    "    continuous_list=continuous_feats,\n",
    "    fp_map=feature_map,\n",
    "    n_samples=n_samples,\n",
    "    seed=seed,\n",
    "    method=method,\n",
    "    method_kwargs=method_kwargs\n",
    ")\n",
    "\n",
    "report_subgroup_bias(\n",
    "    f\"{state1} vs {state2}\",\n",
    "    msd_cross,\n",
    "    rule_cross,\n",
    "    selected_columns,\n",
    "    FEATURE_NAMES,\n",
    "    PROTECTED_VALUES_MAP,\n",
    ")"
   ]
  },
  {
   "cell_type": "markdown",
   "id": "1a182285",
   "metadata": {},
   "source": [
    "The **FL vs NH MSD** of **0.177** means that the subgroup  \n",
    "**`SCHL = 16.0 AND RAC1P = 1.0`**  \n",
    "(\"Doctorate degree\" **and** \"White\") is disproportionately represented, with a **17.7 pp** difference in share between Florida and New Hampshire.\n",
    "\n",
    "In other words, White doctorate holders comprise 17.7 pp more of Florida's sample than New Hampshire’s - the largest intersectional discrepancy between these two states.\n",
    "\n",
    "\n",
    "> For a complete list of every ACS variable’s codes and labels (so you can look up other states, education levels, etc.), see the official 2018 PUMS Data Dictionary:  \n",
    "> https://www2.census.gov/programs-surveys/acs/tech_docs/pums/data_dict/PUMS_Data_Dictionary_2018.pdf"
   ]
  },
  {
   "cell_type": "markdown",
   "id": "8ed0467e",
   "metadata": {},
   "source": [
    "## Conclusion\n",
    "\n",
    "In this notebook, we have seen how **Maximum Subgroup Discrepancy (MSD)** can uncover both within-population and cross-population biases in a real-world dataset:\n",
    "\n",
    "1. **Within-State Discrepancies**  \n",
    "   - For **Florida**, the subgroup  \n",
    "     `RAC1P = 1.0 AND SEX = 1.0`  \n",
    "     (\"White\" **and** \"Male\") is the most disproportionately represented, with an MSD of **0.193** (19.3 pp gap vs its complement).  \n",
    "   - For **New Hampshire**, the subgroup  \n",
    "     `RAC1P = 1.0 AND SEX = 1.0`  \n",
    "     (\"White\" **and** \"Male\") is the most disproportionately represented, with an MSD of **0.217**.\n",
    "\n",
    "2. **Cross-State Discrepancy**  \n",
    "   - Comparing **Florida vs New Hampshire**, the subgroup  \n",
    "     `SCHL = 16.0 AND RAC1P = 1.0`  \n",
    "     (\"Doctorate degree\" **and** \"White\") is the most disproportionately represented, with an MSD of **0.177** (17.7 pp gap in share).\n",
    "\n",
    "Feel free to play with different feature sets, years, or other folktables problems (ACSPublicCoverage, ACSMobility, ...)."
   ]
  },
  {
   "cell_type": "markdown",
   "id": "c20e42e9",
   "metadata": {},
   "source": [
    "## Advanced Settings"
   ]
  },
  {
   "cell_type": "code",
   "execution_count": null,
   "id": "358d0f7f",
   "metadata": {},
   "outputs": [
    {
     "name": "stdout",
     "output_type": "stream",
     "text": [
      "Features can be selected from: ['AGEP', 'COW', 'SCHL', 'MAR', 'OCCP', 'POBP', 'RELP', 'WKHP', 'SEX', 'RAC1P']\n",
      "Explanation of their abbreviations could be found below.\n"
     ]
    }
   ],
   "source": [
    "# ────────── ACS Data settings ──────────\n",
    "survey_year   = \"2018\"\n",
    "horizon       = \"1-Year\"\n",
    "data_root     = \"../data/folktables\"\n",
    "\n",
    "# ────────── Which columns to keep ──────────\n",
    "print(\"Features can be selected from:\", Dataset.features)\n",
    "print(\"Explanation of their abbreviations could be found below.\")\n",
    "selected_columns = ['AGEP', 'SCHL', 'OCCP', 'SEX', 'RAC1P']\n",
    "\n",
    "# ────────── MSD / Solver settings ──────────\n",
    "n_samples     = 1_000   # number of samples to subsample for faster computation\n",
    "method        = \"MSD\"\n",
    "method_kwargs = {\n",
    "    \"solver\": \"gurobi\",  # comment out if you don’t have a license\n",
    "}"
   ]
  },
  {
   "cell_type": "code",
   "execution_count": null,
   "id": "0f48f66b",
   "metadata": {},
   "outputs": [],
   "source": [
    "seed = 42\n",
    "\n",
    "protected_attrs  = selected_columns.copy()\n",
    "\n",
    "feature_map      = {}  # any custom binning\n",
    "\n",
    "# ────────── Feature definitions ──────────\n",
    "CONTINUOUS_FEATURES = [\"AGEP\", \"PINCP\", \"WKHP\", \"JWMNP\", \"POVPIP\"]\n",
    "continuous_feats = [f for f in CONTINUOUS_FEATURES if f in selected_columns]"
   ]
  },
  {
   "cell_type": "markdown",
   "id": "1528268b",
   "metadata": {},
   "source": [
    "## State-Code Utility"
   ]
  },
  {
   "cell_type": "code",
   "execution_count": null,
   "id": "e601268a",
   "metadata": {},
   "outputs": [],
   "source": [
    "from humancompatible.detect.utils import state_to_pobp_code\n",
    "# https://www.icpsr.umich.edu/web/DSDR/studies/25042/datasets/0002/variables/POBP?archive=dsdr"
   ]
  },
  {
   "cell_type": "markdown",
   "id": "f4c03b8c",
   "metadata": {},
   "source": [
    "## Explanation helpers"
   ]
  },
  {
   "cell_type": "code",
   "execution_count": null,
   "id": "7d6abb5e",
   "metadata": {},
   "outputs": [
    {
     "data": {
      "text/plain": [
       "{'SEX': 'Sex',\n",
       " 'RAC1P': 'Race',\n",
       " 'AGEP': 'Age',\n",
       " 'MAR': 'Marital status',\n",
       " 'POBP': 'Place of birth',\n",
       " 'DIS': 'Disability',\n",
       " 'CIT': 'Citizenship',\n",
       " 'MIL': 'Military service',\n",
       " 'ANC': 'Ancestry',\n",
       " 'NATIVITY': 'Foreign or US native',\n",
       " 'DEAR': 'Difficulty hearing',\n",
       " 'DEYE': 'Difficulty seeing',\n",
       " 'DREM': 'Cognitive difficulty',\n",
       " 'FER': 'Gave birth last year',\n",
       " 'POVPIP': 'Income / Poverty threshold',\n",
       " 'COW': 'Class of worker',\n",
       " 'SCHL': 'Educational attainment',\n",
       " 'OCCP': 'Occupation recode',\n",
       " 'WKHP': 'Usual hours worked per week past 12 months'}"
      ]
     },
     "execution_count": 6,
     "metadata": {},
     "output_type": "execute_result"
    }
   ],
   "source": [
    "from humancompatible.detect.utils import report_subgroup_bias\n",
    "from folktables_utils import feature_folktables, state_to_pobp_code\n",
    "FEATURE_NAMES, PROTECTED_VALUES_MAP = feature_folktables()\n",
    "\n",
    "FEATURE_NAMES"
   ]
  }
 ],
 "metadata": {
  "kernelspec": {
   "display_name": ".venv",
   "language": "python",
   "name": "python3"
  },
  "language_info": {
   "codemirror_mode": {
    "name": "ipython",
    "version": 3
   },
   "file_extension": ".py",
   "mimetype": "text/x-python",
   "name": "python",
   "nbconvert_exporter": "python",
   "pygments_lexer": "ipython3",
   "version": "3.13.3"
  }
 },
 "nbformat": 4,
 "nbformat_minor": 5
}
