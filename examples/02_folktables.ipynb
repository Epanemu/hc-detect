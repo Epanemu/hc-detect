{
 "cells": [
  {
   "cell_type": "markdown",
   "id": "2b764402",
   "metadata": {},
   "source": [
    "# Folktables: Real‐World Bias Detection with MSD"
   ]
  },
  {
   "cell_type": "markdown",
   "id": "adc690ca",
   "metadata": {},
   "source": [
    "## Configuration & Imports"
   ]
  },
  {
   "cell_type": "code",
   "execution_count": 1,
   "id": "7c60cf15",
   "metadata": {},
   "outputs": [],
   "source": [
    "import numpy as np\n",
    "import pandas as pd\n",
    "\n",
    "from folktables import ACSDataSource, ACSIncome\n",
    "from humancompatible.detect import detect_bias, detect_bias_two_samples"
   ]
  },
  {
   "cell_type": "markdown",
   "id": "f183c9f7",
   "metadata": {},
   "source": [
    "#### Main parameters"
   ]
  },
  {
   "cell_type": "code",
   "execution_count": 2,
   "id": "8ff2967f",
   "metadata": {},
   "outputs": [],
   "source": [
    "state1 = \"HI\"\n",
    "state2 = \"ME\""
   ]
  },
  {
   "cell_type": "markdown",
   "id": "57b714e5",
   "metadata": {},
   "source": [
    "#### Extra parameters"
   ]
  },
  {
   "cell_type": "code",
   "execution_count": 3,
   "id": "8581c71e",
   "metadata": {},
   "outputs": [],
   "source": [
    "survey_year = \"2018\"\n",
    "horizon = \"1-Year\"\n",
    "data_root = \"../data/folktables\"\n",
    "\n",
    "selected_columns = ['AGEP', 'MAR', 'POBP', 'SEX', 'RAC1P']\n",
    "protected_attrs = ['AGEP', 'MAR', 'POBP', 'SEX', 'RAC1P']\n",
    "# ['AGEP', 'COW', 'SCHL', 'MAR', 'OCCP', 'POBP', 'RELP', 'WKHP', 'SEX', 'RAC1P']\n",
    "continuous_feats = []\n",
    "feature_map = {}\n",
    "\n",
    "seed = 42\n",
    "n_samples = 1000\n",
    "method = \"MSD\"\n",
    "method_kwargs = {\"time_limit\": 120}  # 2 min per solve"
   ]
  },
  {
   "cell_type": "markdown",
   "id": "821286c5",
   "metadata": {},
   "source": [
    "## Load & Prepare Data via Folktables"
   ]
  },
  {
   "cell_type": "code",
   "execution_count": 4,
   "id": "54787469",
   "metadata": {},
   "outputs": [],
   "source": [
    "def load_state_manual():\n",
    "    \"\"\"\n",
    "    Attempts to download via folktables; if that fails, expects you to have\n",
    "    manually downloaded & unzipped the two CSV zips into data_root/{year}/{horizon}/\n",
    "    \"\"\"\n",
    "    ds = ACSDataSource(\n",
    "        survey_year=survey_year,\n",
    "        horizon=horizon,\n",
    "        survey=\"person\",\n",
    "        root_dir=data_root,\n",
    "    )\n",
    "    try:\n",
    "        # try folktables' automatic downloader\n",
    "        raw = ds.get_data(states=[state1, state2], download=True)\n",
    "    except Exception as e:\n",
    "        print(\"\\n⚠️  Automatic download failed:\")\n",
    "        print(f\"    {e!r}\\n\")\n",
    "        print(\"→ Please manually download these two files and unzip them under:\")\n",
    "        print(f\"    {data_root}/{survey_year}/{horizon}/csv_p{state1.lower()}.zip\")\n",
    "        print(f\"    {data_root}/{survey_year}/{horizon}/csv_p{state2.lower()}.zip\")\n",
    "        print(\"\\nYou can get them from:\")\n",
    "        print(f\"https://www2.census.gov/programs-surveys/acs/data/pums/{survey_year}/{horizon}/\\n\")\n",
    "        # now try again, without download flag, so folktables will read from disk:\n",
    "        raw = ds.get_data(states=[state1, state2], download=False)\n",
    "    return raw"
   ]
  }
 ],
 "metadata": {
  "kernelspec": {
   "display_name": ".venv",
   "language": "python",
   "name": "python3"
  },
  "language_info": {
   "codemirror_mode": {
    "name": "ipython",
    "version": 3
   },
   "file_extension": ".py",
   "mimetype": "text/x-python",
   "name": "python",
   "nbconvert_exporter": "python",
   "pygments_lexer": "ipython3",
   "version": "3.13.3"
  }
 },
 "nbformat": 4,
 "nbformat_minor": 5
}
