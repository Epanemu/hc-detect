{
 "cells": [
  {
   "cell_type": "markdown",
   "id": "8e3bba9a",
   "metadata": {},
   "source": [
    "# Bias Detection with **MSD**"
   ]
  },
  {
   "cell_type": "markdown",
   "id": "04f3c510",
   "metadata": {},
   "source": [
    "**Maximum Subgroup Discrepancy (MSD)** measures how far two distributions differ inside their worst-case protected subgroup.\n",
    "\n",
    "* Two datasets are **close** iff every subgroup defined by the\n",
    "  protected attributes behaves similarly.  \n",
    "* MSD keeps that worst-case guarantee **and** needs only **O(# protected features)**\n",
    "  samples (linear) instead of the exponential sample sizes required by\n",
    "  classical distances such as Total Variation or Wasserstein.\n",
    "\n",
    "**Why this matters**: MSD uncovers hidden *intersectional* bias that\n",
    "  marginal metrics miss **and** returns the exact logical rule describing the\n",
    "  most disadvantaged group.\n"
   ]
  },
  {
   "cell_type": "markdown",
   "id": "b06fca52",
   "metadata": {},
   "source": [
    "## Demo dataset  `01_data.csv`\n",
    "\n",
    "| Column   | Type & values                                                 | Role            |\n",
    "|----------|--------------------------------------------------------------|-----------------|\n",
    "| `Race`   | categorical {Green, Blue, Purple}                            | protected       |\n",
    "| `Age`    | categorical {0-18, 18-30, 30-45, 45-60, 60+}                 | protected       |\n",
    "| `Target` | binary {0, 1} (e.g. loan approval)                           | outcome tested  |\n",
    "\n",
    "The toy data are crafted so that global **demographic parity** holds  \n",
    "(each race × age bucket has the same mean `Target`) **but young Blue people are\n",
    "severely under-served**.  \n",
    "MSD should discover exactly that subgroup."
   ]
  },
  {
   "cell_type": "markdown",
   "id": "ef678f1c",
   "metadata": {},
   "source": [
    "<img src=\"../images/motivation_MSD.png\" width=\"600\">"
   ]
  },
  {
   "cell_type": "code",
   "execution_count": 1,
   "id": "1890a865",
   "metadata": {},
   "outputs": [],
   "source": [
    "dataset_path = \"../data/01_data.csv\"\n",
    "\n",
    "target = \"Target\"\n",
    "protected_list = [\"Race\", \"Age\"]"
   ]
  },
  {
   "cell_type": "code",
   "execution_count": null,
   "id": "6a6bc8c9",
   "metadata": {},
   "outputs": [
    {
     "name": "stderr",
     "output_type": "stream",
     "text": [
      "[INFO] Set parameter Username\n",
      "[INFO] Set parameter LicenseID to value 2649381\n",
      "[INFO] Academic license - for non-commercial use only - expires 2026-04-09\n"
     ]
    }
   ],
   "source": [
    "from humancompatible.detect import compute_bias_csv\n",
    "\n",
    "msd_val, rule_idx = compute_bias_csv(\n",
    "    csv_path=dataset_path,\n",
    "    target=target,\n",
    "    protected_list=protected_list,\n",
    "    method=\"MSD\",\n",
    ")"
   ]
  },
  {
   "cell_type": "code",
   "execution_count": 3,
   "id": "733a3c76",
   "metadata": {},
   "outputs": [
    {
     "name": "stdout",
     "output_type": "stream",
     "text": [
      "MSD value: 0.111\n",
      "Rule: [np.int64(1), np.int64(3)]\n"
     ]
    }
   ],
   "source": [
    "print(f\"MSD value: {msd_val:.3f}\")\n",
    "print(f\"Rule: {rule_idx}\")"
   ]
  },
  {
   "cell_type": "markdown",
   "id": "85af7179",
   "metadata": {},
   "source": [
    "## Interpreting the rule\n",
    "\n",
    "`rule_idx` refers to columns of the **binarised** feature matrix.\n",
    "You can rebuild the same binariser and map each index back to a literal:"
   ]
  },
  {
   "cell_type": "code",
   "execution_count": 4,
   "id": "b15c7893",
   "metadata": {},
   "outputs": [
    {
     "name": "stdout",
     "output_type": "stream",
     "text": [
      "Race = Blue AND Age = 0-18\n"
     ]
    }
   ],
   "source": [
    "import pandas as pd\n",
    "from humancompatible.detect.data_handler import DataHandler\n",
    "from humancompatible.detect.binarizer import Binarizer\n",
    "\n",
    "df = pd.read_csv(dataset_path)\n",
    "X = df[:].drop(columns=[target])\n",
    "y = df[:][target]\n",
    "\n",
    "categ_map = {col: X[col].unique() for col in X.columns}\n",
    "dhandler = DataHandler.from_data(X, y, categ_map=categ_map)\n",
    "\n",
    "binz = Binarizer(dhandler, target_positive_vals=[True])\n",
    "encodings = binz.get_bin_encodings(include_binary_negations=True)\n",
    "\n",
    "readable = \" AND \".join(str(encodings[i]) for i in rule_idx)\n",
    "print(readable)"
   ]
  },
  {
   "cell_type": "markdown",
   "id": "8472f8e8",
   "metadata": {},
   "source": [
    "## Conclusion\n",
    "\n",
    "**MSD score**  \n",
    "  The computed MSD of **0.111…** tells us that the subgroup  \n",
    "  **`Race = Blue AND Age = 0–18`**  \n",
    "  appears **11.1 percentage points more often** among the negative outcomes than among the positive outcomes.\n",
    "\n",
    "**What this means**  \n",
    "  In this toy dataset, \"Blue youngsters\" are the most under-served subgroup.  "
   ]
  }
 ],
 "metadata": {
  "kernelspec": {
   "display_name": "Expl",
   "language": "python",
   "name": "python3"
  },
  "language_info": {
   "codemirror_mode": {
    "name": "ipython",
    "version": 3
   },
   "file_extension": ".py",
   "mimetype": "text/x-python",
   "name": "python",
   "nbconvert_exporter": "python",
   "pygments_lexer": "ipython3",
   "version": "3.11.0"
  }
 },
 "nbformat": 4,
 "nbformat_minor": 5
}
