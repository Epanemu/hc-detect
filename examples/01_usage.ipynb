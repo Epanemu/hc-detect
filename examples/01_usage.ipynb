{
 "cells": [
  {
   "cell_type": "markdown",
   "id": "8e3bba9a",
   "metadata": {},
   "source": [
    "## Usage"
   ]
  },
  {
   "cell_type": "code",
   "execution_count": 1,
   "id": "1890a865",
   "metadata": {},
   "outputs": [],
   "source": [
    "from humancompatible.detect.MSD import compute_MSD\n",
    "\n",
    "dataset_path = \"../data/01_data.csv\"\n",
    "result_folder = \"../results_dir\"\n",
    "\n",
    "target = \"Target\"\n",
    "protected_list = [\"Race\", \"Age\"]"
   ]
  },
  {
   "cell_type": "code",
   "execution_count": 2,
   "id": "6a6bc8c9",
   "metadata": {},
   "outputs": [
    {
     "name": "stderr",
     "output_type": "stream",
     "text": [
      "[INFO] Set parameter Username\n",
      "[INFO] Set parameter LicenseID to value 2649381\n",
      "[INFO] Academic license - for non-commercial use only - expires 2026-04-09\n"
     ]
    }
   ],
   "source": [
    "MSD_val, rule = compute_MSD(\n",
    "    csv_path=dataset_path,\n",
    "    target=target,\n",
    "    protected_list=protected_list,\n",
    ")"
   ]
  },
  {
   "cell_type": "code",
   "execution_count": 3,
   "id": "733a3c76",
   "metadata": {},
   "outputs": [
    {
     "name": "stdout",
     "output_type": "stream",
     "text": [
      "MSD value: 0.1111111111111111\n",
      "Rule: [np.int64(1), np.int64(3)]\n"
     ]
    }
   ],
   "source": [
    "print(f\"MSD value: {MSD_val}\")\n",
    "print(f\"Rule: {rule}\")"
   ]
  },
  {
   "cell_type": "markdown",
   "id": "b724ba35",
   "metadata": {},
   "source": [
    "<div style=\"text-align:left\">\n",
    "  <img src=\"../images/motivation_MSD.png\" alt=\"motivation_MSD\" width=\"600px\"/>\n",
    "</div>"
   ]
  },
  {
   "cell_type": "markdown",
   "id": "4ec5c200",
   "metadata": {},
   "source": [
    "Here we tell the pipeline:\n",
    "\n",
    "- target – which column is our binary label\n",
    "\n",
    "- protected_list – the “protected” features (we’ll only enumerate subgroups over these)\n",
    "\n",
    "- continuous_list – which features to treat as numeric ranges rather than categories\n",
    "\n",
    "- feature_processing – integer‐division rules to collapse high‐cardinality fields"
   ]
  }
 ],
 "metadata": {
  "kernelspec": {
   "display_name": ".venv",
   "language": "python",
   "name": "python3"
  },
  "language_info": {
   "codemirror_mode": {
    "name": "ipython",
    "version": 3
   },
   "file_extension": ".py",
   "mimetype": "text/x-python",
   "name": "python",
   "nbconvert_exporter": "python",
   "pygments_lexer": "ipython3",
   "version": "3.13.3"
  }
 },
 "nbformat": 4,
 "nbformat_minor": 5
}
