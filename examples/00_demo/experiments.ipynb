{
 "cells": [
  {
   "cell_type": "markdown",
   "id": "b1ecc4c0",
   "metadata": {},
   "source": [
    "## Run the experiments with defined dataset"
   ]
  },
  {
   "cell_type": "markdown",
   "id": "426aa7d4",
   "metadata": {},
   "source": [
    "During the experiments, some folders and files will be created in this directory.\n",
    "\n",
    "When you run the plotting commands, the generated PDF plots will also appear here."
   ]
  },
  {
   "cell_type": "markdown",
   "id": "33fb5600",
   "metadata": {},
   "source": [
    "### How to Run Experiments\n",
    "Below are common examples using Hydra-style overrides.\n",
    "\n",
    "By default, outputs are written to `./examples/00_demo/outputs/`.\n",
    "If you run multiple experiments, it will be stored to `./examples/00_demo/multirun/`.\n",
    "\n",
    "To utilize the structure as the precomputed results, add `+dir_structure=cluster_batch` as a command line argument, and the results will be saved in `./examples/00_demo/batch_out/` folder. For running, also add `-m` argument in the end.\n",
    "\n",
    "After running the command, the notebook will be changed from the original one, and the folder with the results will be created in the repository. \n",
    "Which means the project will no longer be the same as the original. In order to skip the check, add `--skip-git-check` argument.\n",
    "\n",
    "If the command is run outside the project, it is not necessary to add it."
   ]
  },
  {
   "cell_type": "code",
   "execution_count": null,
   "id": "e9c75a68",
   "metadata": {},
   "outputs": [],
   "source": [
    "# OneRule MSD:\n",
    "!python -m humancompatible.detect.experiment_enumerative --skip-git-check\n",
    "# Use config humancompatible/detect/conf/enumerative.yaml"
   ]
  },
  {
   "cell_type": "code",
   "execution_count": null,
   "id": "28eeb7b9",
   "metadata": {},
   "outputs": [],
   "source": [
    "# Sample Complexity experiments:\n",
    "!python -m humancompatible.detect.experiment_sample_complexity\n",
    "# Use config humancompatible/detect/conf/distances.yaml"
   ]
  },
  {
   "cell_type": "markdown",
   "id": "79490742",
   "metadata": {},
   "source": [
    "The same results were already obtaines, and stored in folder `./humancompatible/detect/batch_precomputed`.\n",
    "\n",
    "**Note: if we add `-m` flag in the end of the command, it allows to run multiple experiments with different configurations in conf (seed, model, scenario). Without this flag, only one default experiment will be run, as it is being set at the beginning.**"
   ]
  }
 ],
 "metadata": {
  "kernelspec": {
   "display_name": ".venv",
   "language": "python",
   "name": "python3"
  },
  "language_info": {
   "codemirror_mode": {
    "name": "ipython",
    "version": 3
   },
   "file_extension": ".py",
   "mimetype": "text/x-python",
   "name": "python",
   "nbconvert_exporter": "python",
   "pygments_lexer": "ipython3",
   "version": "3.13.3"
  }
 },
 "nbformat": 4,
 "nbformat_minor": 5
}
