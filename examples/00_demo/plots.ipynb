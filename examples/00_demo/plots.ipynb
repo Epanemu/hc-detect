{
 "cells": [
  {
   "cell_type": "markdown",
   "id": "d2baedc0",
   "metadata": {},
   "source": [
    "## Plot the results of experiments"
   ]
  },
  {
   "cell_type": "markdown",
   "id": "57296237",
   "metadata": {},
   "source": [
    "### Plotting Results\n",
    "After running experiments, you can produce plots. **Currently, plots are being generated from already stored results at the given path above.**\n",
    "\n",
    "After running the command, the notebook will be changed from the original one, and the folder with the results will be created in the repository. \n",
    "Which means the project will no longer be the same as the original. In order to skip the check, add `--skip-git-check` argument.\n",
    "\n",
    "Results are will be saved to the current folder (`./examples/00_demo/`)."
   ]
  },
  {
   "cell_type": "code",
   "execution_count": null,
   "id": "6f44de9a",
   "metadata": {},
   "outputs": [],
   "source": [
    "# Enumeration Comparison\n",
    "!python -m humancompatible.detect.plot-maker.plot_exploration --skip-git-check\n",
    "# Produces \"enumeration.pdf\" in this directory"
   ]
  },
  {
   "cell_type": "code",
   "execution_count": null,
   "id": "653e09d0",
   "metadata": {},
   "outputs": [],
   "source": [
    "# Paper Figures\n",
    "!python -m humancompatible.detect.plot-maker.plots_for_paper base\n",
    "# And instead of 'base' you can also choose 'relative' or 'RSE' for different y-axis interpretations"
   ]
  },
  {
   "cell_type": "markdown",
   "id": "7ebe5aa6",
   "metadata": {},
   "source": [
    "Stored in the current folder as \"final_complexity_base.pdf\"/\"final_complexity_base.pdf\"/\"final_complexity_RSE.pdf\""
   ]
  }
 ],
 "metadata": {
  "kernelspec": {
   "display_name": ".venv",
   "language": "python",
   "name": "python3"
  },
  "language_info": {
   "codemirror_mode": {
    "name": "ipython",
    "version": 3
   },
   "file_extension": ".py",
   "mimetype": "text/x-python",
   "name": "python",
   "nbconvert_exporter": "python",
   "pygments_lexer": "ipython3",
   "version": "3.13.3"
  }
 },
 "nbformat": 4,
 "nbformat_minor": 5
}
